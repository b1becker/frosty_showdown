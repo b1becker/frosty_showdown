{
  "nbformat": 4,
  "nbformat_minor": 0,
  "metadata": {
    "colab": {
      "provenance": [],
      "include_colab_link": true
    },
    "kernelspec": {
      "name": "python3",
      "display_name": "Python 3"
    },
    "language_info": {
      "name": "python"
    }
  },
  "cells": [
    {
      "cell_type": "markdown",
      "metadata": {
        "id": "view-in-github",
        "colab_type": "text"
      },
      "source": [
        "<a href=\"https://colab.research.google.com/github/b1becker/frosty_showdown/blob/main/newimageconverter.ipynb\" target=\"_parent\"><img src=\"https://colab.research.google.com/assets/colab-badge.svg\" alt=\"Open In Colab\"/></a>"
      ]
    },
    {
      "cell_type": "code",
      "execution_count": null,
      "metadata": {
        "id": "p2kfQ--C9Qp5",
        "colab": {
          "base_uri": "https://localhost:8080/"
        },
        "outputId": "d2839d2b-7efa-4efa-b3ee-edd7785676fd"
      },
      "outputs": [
        {
          "output_type": "stream",
          "name": "stdout",
          "text": [
            "VHDL ROM script written to orange.txt\n"
          ]
        }
      ],
      "source": [
        "from PIL import Image\n",
        "im = Image.open('orange.png', 'r').convert('RGB')\n",
        "scale_factor = 1\n",
        "width, height = im.size\n",
        "scaled_width, scaled_height = width // scale_factor, height // scale_factor\n",
        "im = im.resize((scaled_width, scaled_height), Image.NEAREST)\n",
        "\n",
        "def rgb_to_6bit(rgb):\n",
        "    # Scale each color component to 2 bits\n",
        "    r = rgb[0] * 3 // 256  # Scale red from 0-255 to 0-3\n",
        "    g = rgb[1] * 3 // 256  # Scale green from 0-255 to 0-3\n",
        "    b = rgb[2] * 3 // 256  # Scale blue from 0-255 to 0-3\n",
        "    return (r << 4) | (g << 2) | b\n",
        "\n",
        "pixel_values = list(im.getdata())\n",
        "six_bit_pixel_values = [rgb_to_6bit(pixel) for pixel in pixel_values]\n",
        "\n",
        "output_file = 'orange.txt'\n",
        "with open(output_file, 'w') as file:\n",
        "\n",
        "   for y in range(scaled_height):\n",
        "       for x in range(scaled_width):\n",
        "           pixel_index = y * scaled_width + x\n",
        "           address = (y << (scaled_width.bit_length())) | x\n",
        "           address_binary = f\"{address:013b}\"\n",
        "           color_value = six_bit_pixel_values[pixel_index]\n",
        "           if f\"{color_value:06b}\" != \"001000\":\n",
        "                file.write(f\"        when \\\"{address_binary}\\\" => rgb <= \\\"{color_value:06b}\\\";\\n\")\n",
        "\n",
        "   file.write('        when others => rgb <= \"001000\";\\n')\n",
        "   file.write('            end case;\\n')\n",
        "\n",
        "print(f\"VHDL ROM script written to {output_file}\")"
      ]
    }
  ]
}